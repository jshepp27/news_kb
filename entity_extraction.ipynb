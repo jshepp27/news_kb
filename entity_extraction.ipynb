{
 "cells": [
  {
   "cell_type": "code",
   "execution_count": null,
   "outputs": [],
   "source": [
    "# TODO: NER\n",
    "# TODO: Word Sense Disambiguation\n",
    "# TODO: NEL\n",
    "# TODO: Cannonicalisation\n",
    "# TODO: Open IE\n",
    "# TODO: Opinion Triples\n",
    "# TODO: Opinion Analysis, Visualisation, Maps: Entities, Similarity Clustering\n",
    "# TODO: Knowledge Graph\n",
    "# TODO: Neo4j\n",
    "# TODO: Operationalise persist Cloud DB + App interface"
   ],
   "metadata": {
    "collapsed": false
   }
  },
  {
   "cell_type": "code",
   "execution_count": null,
   "outputs": [],
   "source": [
    "import stanza\n",
    "import pandas as pd\n",
    "import json"
   ],
   "metadata": {
    "collapsed": false
   }
  },
  {
   "cell_type": "code",
   "execution_count": null,
   "outputs": [],
   "source": [
    "# Stanza Pipeline\n",
    "#stanza.download(\"en\")\n",
    "nlp = stanza.Pipeline(lang=\"en\", processors=\"tokenize, mwt, pos, ner\")"
   ],
   "metadata": {
    "collapsed": false
   }
  },
  {
   "cell_type": "code",
   "execution_count": null,
   "outputs": [],
   "source": [
    "all_news = [json.loads(_) for _ in open(\"data/RSS_objects.jsonl\")]"
   ],
   "metadata": {
    "collapsed": false
   }
  },
  {
   "cell_type": "code",
   "execution_count": null,
   "outputs": [],
   "source": [
    "entities = []\n",
    "\n",
    "for news in all_news:\n",
    "    doc = nlp(news[\"summary\"])\n",
    "\n",
    "    for sent in doc.sentences:\n",
    "        entity_id = len(entities)\n",
    "\n",
    "        for ent in sent.ents:\n",
    "            for _ in entities:\n",
    "                found = False\n",
    "\n",
    "                if _['text'] == ent.text and _['type'] == ent.type:\n",
    "                    found = True\n",
    "                    _[\"news_ids\"].append(news[\"id\"])\n",
    "                    _[\"count\"] += 1\n",
    "\n",
    "                if 'entities' in news:\n",
    "                    news['entities'].append(_['id'])\n",
    "\n",
    "                else:\n",
    "                    news['entities'] = [_['id']]\n",
    "\n",
    "            if not found:\n",
    "                entity = {\n",
    "                    \"id\": entity_id,\n",
    "                    \"text\": ent.text,\n",
    "                    \"type\": ent.type,\n",
    "                    \"count\": 1,\n",
    "                    \"news_ids\": [news[\"id\"]]\n",
    "\n",
    "                }\n",
    "\n",
    "                entities.append(entity)\n",
    "\n",
    "                if \"entities\" in news:\n",
    "                    news[\"entities\"].append(entity_id)\n",
    "\n",
    "                else:\n",
    "                     news[\"entities\"] = [entity_id]\n",
    "\n",
    "                entity_id = entity_id + 1"
   ],
   "metadata": {
    "collapsed": false
   }
  },
  {
   "cell_type": "code",
   "execution_count": null,
   "outputs": [],
   "source": [
    "entities"
   ],
   "metadata": {
    "collapsed": false
   }
  },
  {
   "cell_type": "code",
   "execution_count": null,
   "outputs": [],
   "source": [
    "df = pd.DataFrame(data=entities)\n",
    "df"
   ],
   "metadata": {
    "collapsed": false
   }
  },
  {
   "cell_type": "code",
   "execution_count": null,
   "outputs": [],
   "source": [
    "import sparql\n",
    "\n",
    "entity_types = ['PERSON','NORP', 'FAC', 'ORG', 'GPE', 'LOC', 'PRODUCT', 'EVENT', 'WORK_OF_ART', 'LAW']\n",
    "\n",
    "s = sparql.Service(\"http://dbpedia.org/sparql\", \"GET\")"
   ],
   "metadata": {
    "collapsed": false
   }
  },
  {
   "cell_type": "code",
   "execution_count": null,
   "outputs": [],
   "source": [
    "for entity in entities:\n",
    "\n",
    "    if entity[\"type\"] in entity_types:\n",
    "        searchText = entity['text'].replace('\"', '')\n",
    "        curQuery = 'SELECT DISTINCT * WHERE '\n",
    "        curQuery = curQuery + '{ ?url rdfs:label \"' + searchText + '\"@en . '\n",
    "        curQuery = curQuery + 'FILTER(STRSTARTS(str(?url), \"http://dbpedia.org/resource/\"))}'\n",
    "\n",
    "        try:\n",
    "            results = s.query(curQuery).fetchall()\n",
    "\n",
    "        except:\n",
    "            continue\n",
    "\n",
    "        if len(results) > 0:\n",
    "            for result in results:\n",
    "                resourceName = sparql.unpack_row(result)[0]\n",
    "                if 'Category:' not in resourceName and 'property' not in resourceName:\n",
    "                    print(resourceName)\n",
    "                    entity['dbpedia_Resource'] = resourceName"
   ],
   "metadata": {
    "collapsed": false
   }
  },
  {
   "cell_type": "code",
   "execution_count": null,
   "outputs": [],
   "source": [
    "# Spotlight\n",
    "import requests\n",
    "from IPython.core.display import display, HTML\n",
    "\n",
    "spotlight_url = \"http://api.dbpedia-spotlight.org/en/annotate\"\n",
    "\n",
    "headers = {\n",
    "    \"accept\": \"application/json\"\n",
    "}\n",
    "\n",
    "for _ in all_news:\n",
    "    params = {\n",
    "        \"text\": _[\"title\"],\n",
    "        \"confidence\": 0.35\n",
    "    }\n",
    "    try:\n",
    "        res = requests.get(spotlight_url, params=params, headers=headers)\n",
    "        _[\"annotation\"] = res.json()\n",
    "\n",
    "    except:\n",
    "        _[\"annotation\"] = \"NIL\"\n",
    "        continue"
   ],
   "metadata": {
    "collapsed": false
   }
  },
  {
   "cell_type": "code",
   "execution_count": null,
   "outputs": [],
   "source": [
    "all_news[1]"
   ],
   "metadata": {
    "collapsed": false
   }
  },
  {
   "cell_type": "code",
   "execution_count": null,
   "outputs": [],
   "source": [
    "# TODO: Mask\n",
    "# TODO: Advanced Meta Data\n",
    "\n",
    "item = all_news[5]\n",
    "\n",
    "def locate(text, surface_form):\n",
    "    items = text.split()\n",
    "    len_ = len(surface_form.split())\n",
    "\n",
    "    for idx, _ in enumerate(items):\n",
    "        if len_ > 1:\n",
    "            surface_form = surface_form.split()[0]\n",
    "\n",
    "        if _.startswith(surface_form):\n",
    "            return (idx, idx + len_)\n",
    "\n",
    "        else: None\n",
    "\n",
    "count = 0\n",
    "for item in all_news:\n",
    "    count += 1\n",
    "\n",
    "    #print(item[\"id\"], item[\"title\"])\n",
    "\n",
    "    if item[\"annotation\"] == \"NIL\":\n",
    "        continue\n",
    "\n",
    "    else:\n",
    "\n",
    "        link_text = item[\"title\"].split()\n",
    "\n",
    "        if \"Resources\" in item[\"annotation\"]:\n",
    "            for ent in item[\"annotation\"][\"Resources\"]:\n",
    "                surface_form = ent[\"@surfaceForm\"]\n",
    "                uri = ent[\"@URI\"]\n",
    "\n",
    "                try:\n",
    "                    start, finish = locate(item[\"title\"], surface_form)\n",
    "\n",
    "                except:\n",
    "                    continue\n",
    "\n",
    "                if start != finish:\n",
    "                    # Slice Assignment:\n",
    "                    link_text[start: finish] = [f\"[{surface_form}, {uri}]\"]\n",
    "\n",
    "                elif start == finish:\n",
    "                    link_text[start] = f\"[{surface_form}, {uri}]\"\n",
    "\n",
    "            disambiguated = \" \".join(_ for _ in link_text)\n",
    "            print(item[\"title\"])\n",
    "            print(disambiguated, \"\\n\")\n",
    "\n",
    "        else: continue"
   ],
   "metadata": {
    "collapsed": false
   }
  }
 ],
 "metadata": {
  "kernelspec": {
   "display_name": "Python 3",
   "language": "python",
   "name": "python3"
  },
  "language_info": {
   "codemirror_mode": {
    "name": "ipython",
    "version": 2
   },
   "file_extension": ".py",
   "mimetype": "text/x-python",
   "name": "python",
   "nbconvert_exporter": "python",
   "pygments_lexer": "ipython2",
   "version": "2.7.6"
  }
 },
 "nbformat": 4,
 "nbformat_minor": 0
}
